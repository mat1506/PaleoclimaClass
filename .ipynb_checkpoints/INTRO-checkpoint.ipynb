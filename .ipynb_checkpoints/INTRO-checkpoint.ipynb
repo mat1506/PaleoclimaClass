{
 "cells": [
  {
   "cell_type": "markdown",
   "id": "4a81ed6c-9ae0-452b-9e8b-a27fd9973393",
   "metadata": {},
   "source": [
    "# ESTABLECE EL DIRECTORIO DE TRABAJO"
   ]
  },
  {
   "cell_type": "code",
   "execution_count": null,
   "id": "930e5d9c-b354-4617-aebd-f5ead2648f66",
   "metadata": {},
   "outputs": [],
   "source": []
  }
 ],
 "metadata": {
  "kernelspec": {
   "display_name": "R",
   "language": "R",
   "name": "ir"
  },
  "language_info": {
   "codemirror_mode": "r",
   "file_extension": ".r",
   "mimetype": "text/x-r-source",
   "name": "R",
   "pygments_lexer": "r",
   "version": "4.3.1"
  }
 },
 "nbformat": 4,
 "nbformat_minor": 5
}
